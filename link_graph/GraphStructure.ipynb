{
 "cells": [
  {
   "cell_type": "code",
   "execution_count": 1,
   "metadata": {
    "collapsed": true
   },
   "outputs": [],
   "source": [
    "from bs4 import BeautifulSoup\n",
    "from urlparse import urlparse\n",
    "\n",
    "import zlib\n",
    "import base64\n",
    "\n",
    "import codecs\n",
    "import operator\n",
    "\n",
    "from os import listdir"
   ]
  },
  {
   "cell_type": "code",
   "execution_count": 2,
   "metadata": {
    "collapsed": false
   },
   "outputs": [],
   "source": [
    "DATA_PATH = \"./data/all/\""
   ]
  },
  {
   "cell_type": "code",
   "execution_count": 3,
   "metadata": {
    "collapsed": true
   },
   "outputs": [],
   "source": [
    "urls_indexes_source = dict()"
   ]
  },
  {
   "cell_type": "code",
   "execution_count": 4,
   "metadata": {
    "collapsed": false
   },
   "outputs": [],
   "source": [
    "n_docs_total = 0\n",
    "\n",
    "with open(DATA_PATH + \"urls.txt\", \"r\") as f_name:\n",
    "    for pair in f_name:\n",
    "        pair = pair.strip().split('\\t')\n",
    "        if len(pair) == 0:\n",
    "            continue\n",
    "        \n",
    "        urls_indexes_source[int(pair[0])] = pair[1]\n",
    "        n_docs_total += 1"
   ]
  },
  {
   "cell_type": "code",
   "execution_count": 5,
   "metadata": {
    "collapsed": true
   },
   "outputs": [],
   "source": [
    "def parse_url(url):  \n",
    "    try:\n",
    "        url_parsed = urlparse(url)\n",
    "    except ValueError:\n",
    "        return None\n",
    "        \n",
    "    if url_parsed.scheme in [\"mailto\"]:\n",
    "        return None\n",
    "    if not url_parsed.netloc or url_parsed.netloc == \"lenta.ru\":\n",
    "        return url_parsed.path\n",
    "    else:\n",
    "        return None"
   ]
  },
  {
   "cell_type": "code",
   "execution_count": 6,
   "metadata": {
    "collapsed": true
   },
   "outputs": [],
   "source": [
    "n_indexes = 0\n",
    "urls_indexes = dict()\n",
    "urls_adjacency_list = dict()"
   ]
  },
  {
   "cell_type": "code",
   "execution_count": 7,
   "metadata": {
    "collapsed": false
   },
   "outputs": [],
   "source": [
    "parts = sorted([part for part in listdir(DATA_PATH) if \"docs\" in part])\n",
    "n_docs_processed = 0"
   ]
  },
  {
   "cell_type": "code",
   "execution_count": 8,
   "metadata": {
    "collapsed": false
   },
   "outputs": [
    {
     "name": "stdout",
     "output_type": "stream",
     "text": [
      "564538 docs are processed...\n"
     ]
    }
   ],
   "source": [
    "for part in parts:\n",
    "    with open(DATA_PATH + part, \"r\") as f_name:        \n",
    "        for pair in f_name:\n",
    "            pair = pair.strip().split('\\t')\n",
    "        \n",
    "            if len(pair) == 0:\n",
    "                continue\n",
    "            \n",
    "            pair[0] = int(pair[0])\n",
    "            try:\n",
    "                pair[1] = zlib.decompress(base64.b64decode(pair[1]))\n",
    "            except zlib.error:\n",
    "                continue\n",
    "            except TypeError:\n",
    "                continue\n",
    "                \n",
    "            url_from = parse_url(urls_indexes_source[pair[0]])\n",
    "            if (url_from is None):\n",
    "                continue\n",
    "                \n",
    "            soup = BeautifulSoup(pair[1], \"html.parser\")\n",
    "            url_to = [parse_url(content['href']) for content in soup.find_all('a', href=True)]\n",
    "            \n",
    "            for url in [url_from] + url_to:\n",
    "                if url and url not in urls_indexes:\n",
    "                    urls_indexes[url] = n_indexes\n",
    "                    n_indexes += 1\n",
    "            \n",
    "            index_to = sorted(set([urls_indexes[url] for url in url_to if url]))\n",
    "            index_from = urls_indexes[url_from]\n",
    "        \n",
    "            if len(index_to):\n",
    "                urls_adjacency_list[index_from] = index_to\n",
    "            \n",
    "            n_docs_processed += 1\n",
    "            \n",
    "            if n_docs_processed % 50 == 0:\n",
    "                print u\"\\r{}: {} docs of {} are processed...\".format(part, n_docs_processed, n_docs_total),\n",
    "\n",
    "print u\"\\r{} docs are processed...\".format(n_docs_processed)"
   ]
  },
  {
   "cell_type": "code",
   "execution_count": 9,
   "metadata": {
    "collapsed": false
   },
   "outputs": [
    {
     "name": "stdout",
     "output_type": "stream",
     "text": [
      "Чиcло вершин в графе: 1149606\n",
      "Чиcло висячих вершин в графе: 589670\n"
     ]
    }
   ],
   "source": [
    "print u\"Чиcло вершин в графе: {}\".format(n_indexes)\n",
    "print u\"Чиcло висячих вершин в графе: {}\".format(n_indexes - len(urls_adjacency_list))"
   ]
  },
  {
   "cell_type": "code",
   "execution_count": 10,
   "metadata": {
    "collapsed": false
   },
   "outputs": [],
   "source": [
    "with codecs.open(\"./data/urls.index\", mode=\"w\", encoding=\"utf-8\") as f_name:\n",
    "    urls_indexes = sorted(urls_indexes.iteritems(), key=operator.itemgetter(1))\n",
    "    for url, index in urls_indexes:\n",
    "        f_name.write(u\"{}\\t{}\\n\".format(index, url))"
   ]
  },
  {
   "cell_type": "code",
   "execution_count": 11,
   "metadata": {
    "collapsed": false
   },
   "outputs": [],
   "source": [
    "with codecs.open(\"./data/urls.pairs\", mode=\"w\", encoding=\"utf-8\") as f_name:\n",
    "    urls_adjacency_list = sorted(urls_adjacency_list.iteritems(), key=operator.itemgetter(0)) \n",
    "    for index_from, index_to in urls_adjacency_list:\n",
    "        f_name.write('{}\\t'.format(index_from))\n",
    "        for index in index_to:\n",
    "            f_name.write('{} '.format(index))\n",
    "        f_name.write('\\n')"
   ]
  },
  {
   "cell_type": "code",
   "execution_count": null,
   "metadata": {
    "collapsed": true
   },
   "outputs": [],
   "source": []
  }
 ],
 "metadata": {
  "kernelspec": {
   "display_name": "Python 2",
   "language": "python",
   "name": "python2"
  },
  "language_info": {
   "codemirror_mode": {
    "name": "ipython",
    "version": 2
   },
   "file_extension": ".py",
   "mimetype": "text/x-python",
   "name": "python",
   "nbconvert_exporter": "python",
   "pygments_lexer": "ipython2",
   "version": "2.7.12"
  }
 },
 "nbformat": 4,
 "nbformat_minor": 0
}
