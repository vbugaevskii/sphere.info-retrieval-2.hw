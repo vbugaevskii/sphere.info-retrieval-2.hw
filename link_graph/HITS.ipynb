{
 "cells": [
  {
   "cell_type": "code",
   "execution_count": 1,
   "metadata": {
    "collapsed": true
   },
   "outputs": [],
   "source": [
    "import operator\n",
    "import codecs"
   ]
  },
  {
   "cell_type": "code",
   "execution_count": 2,
   "metadata": {
    "collapsed": false
   },
   "outputs": [],
   "source": [
    "urls_indexes = dict()\n",
    "\n",
    "with codecs.open(\"./data/urls.index\", mode=\"r\", encoding=\"utf-8\") as f_name:\n",
    "    for pair in f_name:\n",
    "        pair = pair.strip().split('\\t')\n",
    "        \n",
    "        if len(pair) < 2:\n",
    "            continue\n",
    "            \n",
    "        urls_indexes[int(pair[0])] = pair[1]"
   ]
  },
  {
   "cell_type": "code",
   "execution_count": 3,
   "metadata": {
    "collapsed": true
   },
   "outputs": [],
   "source": [
    "urls_list = dict()\n",
    "urls_adjacency_list = dict()"
   ]
  },
  {
   "cell_type": "code",
   "execution_count": 4,
   "metadata": {
    "collapsed": false
   },
   "outputs": [],
   "source": [
    "with codecs.open(\"./data/urls.pairs\", mode=\"r\", encoding=\"utf-8\") as f_name:\n",
    "    for pair in f_name:\n",
    "        pair = pair.strip().split('\\t')\n",
    "        \n",
    "        if len(pair) == 0:\n",
    "            continue\n",
    "            \n",
    "        pair[0] = int(pair[0])\n",
    "        pair[1] = map(int, pair[1].strip().split())\n",
    "        \n",
    "        for index in [pair[0]] + pair[1]:\n",
    "            if index not in urls_list:\n",
    "                urls_list[index] = {'a': 1, 'h': 1, 'a_': 0, 'h_': 0}\n",
    "        \n",
    "        urls_adjacency_list[pair[0]] = pair[1]"
   ]
  },
  {
   "cell_type": "code",
   "execution_count": 5,
   "metadata": {
    "collapsed": true
   },
   "outputs": [],
   "source": [
    "def hits_iter(urls_list, urls_adjacency_list):\n",
    "    for index_from, index_list in urls_adjacency_list.iteritems():\n",
    "        for index_to in index_list:\n",
    "            urls_list[index_from]['h_'] += urls_list[index_to]['a']\n",
    "            urls_list[index_to]['a_'] += urls_list[index_from]['h']\n",
    "        \n",
    "    for i, url in urls_list.iteritems():\n",
    "        url['h'] = url['h_']\n",
    "        url['a'] = url['a_']\n",
    "        \n",
    "        url['h_'] = 0\n",
    "        url['a_'] = 0"
   ]
  },
  {
   "cell_type": "code",
   "execution_count": 6,
   "metadata": {
    "collapsed": false
   },
   "outputs": [
    {
     "name": "stdout",
     "output_type": "stream",
     "text": [
      "iter 5 is done...\n"
     ]
    }
   ],
   "source": [
    "for i in range(5):\n",
    "    hits_iter(urls_list, urls_adjacency_list)\n",
    "    print '\\riter {} is done...'.format(i+1),"
   ]
  },
  {
   "cell_type": "code",
   "execution_count": 7,
   "metadata": {
    "collapsed": true
   },
   "outputs": [],
   "source": [
    "urls_list_sorted = [(url, info['a']) for url, info in urls_list.iteritems()]\n",
    "urls_list_sorted = sorted(urls_list_sorted, key=operator.itemgetter(1), reverse=True)"
   ]
  },
  {
   "cell_type": "code",
   "execution_count": 8,
   "metadata": {
    "collapsed": false
   },
   "outputs": [
    {
     "name": "stdout",
     "output_type": "stream",
     "text": [
      "http://lenta.ru/                             \t213496757819182012669\n",
      "http://lenta.ru/rubrics/russia/              \t213496757819182012669\n",
      "http://lenta.ru/rubrics/world/               \t213496757819182012669\n",
      "http://lenta.ru/rubrics/ussr/                \t213496757819182012669\n",
      "http://lenta.ru/rubrics/economics/           \t213496757819182012669\n",
      "http://lenta.ru/rubrics/science/             \t213496757819182012669\n",
      "http://lenta.ru/rubrics/weapons/             \t213496757819182012669\n",
      "http://lenta.ru/rubrics/sport/               \t213496757819182012669\n",
      "http://lenta.ru/rubrics/culture/             \t213496757819182012669\n",
      "http://lenta.ru/rubrics/media/               \t213496757819182012669\n",
      "http://lenta.ru/rubrics/life/                \t213496757819182012669\n",
      "http://lenta.ru/rubrics/ww1/                 \t213496757819182012669\n",
      "http://lenta.ru/parts/text/                  \t213496757819182012669\n",
      "http://lenta.ru/parts/photo/                 \t213496757819182012669\n",
      "http://lenta.ru/parts/infographics/          \t213496757819182012669\n",
      "http://lenta.ru/parts/video/                 \t213496757819182012669\n",
      "http://lenta.ru/specprojects/                \t213496757819182012669\n",
      "http://lenta.ru/rss                          \t213496757819182012669\n",
      "http://lenta.ru/info/                        \t213496757819182012669\n",
      "http://lenta.ru/rubrics/forces/              \t213496529048776640098\n",
      "http://lenta.ru/rubrics/motor/               \t213491042251624120778\n",
      "http://lenta.ru/rubrics/realty/              \t213491042251624120778\n",
      "http://lenta.ru/rubrics/business/            \t208359219658028962514\n",
      "http://lenta.ru/rubrics/library/             \t187280601510500720668\n",
      "http://lenta.ru/photo/2014/12/20/newyeartoys/\t129302759757626913747\n",
      "http://lenta.ru/photo/2015/01/05/portartur/  \t112198811358149572935\n",
      "http://lenta.ru/news/2014/11/24/arrows/      \t99537590086538041312\n",
      "http://lenta.ru/news/2014/12/04/transvesti/  \t98964898081778630751\n",
      "http://lenta.ru/news/2014/12/22/hmmwv/       \t91737578215956102119\n",
      "http://lenta.ru/articles/2014/11/03/traub/   \t86737656252873851943\n"
     ]
    }
   ],
   "source": [
    "for index, rank in urls_list_sorted[:30]:\n",
    "    print u\"http://lenta.ru{:30}\\t{:>15}\".format(urls_indexes[index], rank)"
   ]
  },
  {
   "cell_type": "code",
   "execution_count": null,
   "metadata": {
    "collapsed": true
   },
   "outputs": [],
   "source": []
  }
 ],
 "metadata": {
  "kernelspec": {
   "display_name": "Python 2",
   "language": "python",
   "name": "python2"
  },
  "language_info": {
   "codemirror_mode": {
    "name": "ipython",
    "version": 2
   },
   "file_extension": ".py",
   "mimetype": "text/x-python",
   "name": "python",
   "nbconvert_exporter": "python",
   "pygments_lexer": "ipython2",
   "version": "2.7.12"
  }
 },
 "nbformat": 4,
 "nbformat_minor": 0
}
