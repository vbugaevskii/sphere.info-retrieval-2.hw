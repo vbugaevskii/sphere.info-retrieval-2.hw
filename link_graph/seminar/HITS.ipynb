{
 "cells": [
  {
   "cell_type": "code",
   "execution_count": 1,
   "metadata": {
    "collapsed": true
   },
   "outputs": [],
   "source": [
    "import operator"
   ]
  },
  {
   "cell_type": "code",
   "execution_count": 2,
   "metadata": {
    "collapsed": true
   },
   "outputs": [],
   "source": [
    "urls_list = dict()"
   ]
  },
  {
   "cell_type": "code",
   "execution_count": 3,
   "metadata": {
    "collapsed": true
   },
   "outputs": [],
   "source": [
    "urls_pairs = []"
   ]
  },
  {
   "cell_type": "code",
   "execution_count": 4,
   "metadata": {
    "collapsed": false
   },
   "outputs": [],
   "source": [
    "with open('link_graph_series.txt', 'r') as f_name:\n",
    "    for pair in f_name:\n",
    "        if len(pair) == 0:\n",
    "            continue\n",
    "            \n",
    "        pair = pair.strip().split('\\t')\n",
    "        \n",
    "        if pair[0] not in urls_list:\n",
    "            urls_list[pair[0]] = {'a': 1, 'h': 1, 'a_': 0, 'h_': 0}\n",
    "        if pair[1] not in urls_list:\n",
    "            urls_list[pair[1]] = {'a': 1, 'h': 1, 'a_': 0, 'h_': 0}\n",
    "        \n",
    "        urls_pairs.append(pair)"
   ]
  },
  {
   "cell_type": "code",
   "execution_count": 5,
   "metadata": {
    "collapsed": true
   },
   "outputs": [],
   "source": [
    "def hits_iter(urls_list, urls_pairs):\n",
    "    for pair in urls_pairs:\n",
    "        urls_list[pair[0]]['h_'] += urls_list[pair[1]]['a']\n",
    "        urls_list[pair[1]]['a_'] += urls_list[pair[0]]['h']\n",
    "        \n",
    "    for i, url in urls_list.iteritems():\n",
    "        url['h'] = url['h_']\n",
    "        url['a'] = url['a_']\n",
    "        \n",
    "        url['h_'] = 0\n",
    "        url['a_'] = 0"
   ]
  },
  {
   "cell_type": "code",
   "execution_count": 6,
   "metadata": {
    "collapsed": false
   },
   "outputs": [
    {
     "name": "stdout",
     "output_type": "stream",
     "text": [
      "iter 5 is done...\n"
     ]
    }
   ],
   "source": [
    "for i in range(5):\n",
    "    hits_iter(urls_list, urls_pairs)\n",
    "    print '\\riter {} is done...'.format(i+1),"
   ]
  },
  {
   "cell_type": "markdown",
   "metadata": {},
   "source": [
    "Самые каталожные сериалы"
   ]
  },
  {
   "cell_type": "code",
   "execution_count": 7,
   "metadata": {
    "collapsed": false
   },
   "outputs": [],
   "source": [
    "urls_list_sorted = [(url, info['h']) for url, info in urls_list.iteritems() if '/series' in url]\n",
    "urls_list_sorted = sorted(urls_list_sorted, key=operator.itemgetter(1), reverse=True)"
   ]
  },
  {
   "cell_type": "code",
   "execution_count": 8,
   "metadata": {
    "collapsed": false
   },
   "outputs": [
    {
     "name": "stdout",
     "output_type": "stream",
     "text": [
      "/series_766345_nikita/                   408902580304\n",
      "/series_769346_ischeika/                 396310278853\n",
      "/series_805759_durnaya_krov/             390438435435\n",
      "/series_768138_vikingi/                  385123868910\n",
      "/series_884916_legendi_buduschego/       381457445511\n"
     ]
    }
   ],
   "source": [
    "for url, a in urls_list_sorted[:5]:\n",
    "    print '{:40} {}'.format(url, a)"
   ]
  },
  {
   "cell_type": "markdown",
   "metadata": {},
   "source": [
    "Самые авторитетные актеры"
   ]
  },
  {
   "cell_type": "code",
   "execution_count": 9,
   "metadata": {
    "collapsed": true
   },
   "outputs": [],
   "source": [
    "urls_list_sorted = [(url, info['a']) for url, info in urls_list.iteritems() if '/person' in url]\n",
    "urls_list_sorted = sorted(urls_list_sorted, key=operator.itemgetter(1), reverse=True)"
   ]
  },
  {
   "cell_type": "code",
   "execution_count": 10,
   "metadata": {
    "collapsed": false
   },
   "outputs": [
    {
     "name": "stdout",
     "output_type": "stream",
     "text": [
      "/person/629004_aleksandr_kushaev/        1147820417794\n",
      "/person/632259_vlad_rjashin/             902581368875\n",
      "/person/637325_irina_smirnova/           593797403034\n",
      "/person/628492_ruben_dishdishjan/        535656047327\n",
      "/person/635073_vjacheslav_murugov/       507142487935\n"
     ]
    }
   ],
   "source": [
    "for url, a in urls_list_sorted[:5]:\n",
    "    print '{:40} {}'.format(url, a)"
   ]
  },
  {
   "cell_type": "code",
   "execution_count": null,
   "metadata": {
    "collapsed": true
   },
   "outputs": [],
   "source": []
  }
 ],
 "metadata": {
  "kernelspec": {
   "display_name": "Python 2",
   "language": "python",
   "name": "python2"
  },
  "language_info": {
   "codemirror_mode": {
    "name": "ipython",
    "version": 2
   },
   "file_extension": ".py",
   "mimetype": "text/x-python",
   "name": "python",
   "nbconvert_exporter": "python",
   "pygments_lexer": "ipython2",
   "version": "2.7.12"
  }
 },
 "nbformat": 4,
 "nbformat_minor": 0
}
