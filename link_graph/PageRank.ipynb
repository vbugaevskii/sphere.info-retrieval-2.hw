{
 "cells": [
  {
   "cell_type": "code",
   "execution_count": 1,
   "metadata": {
    "collapsed": true
   },
   "outputs": [],
   "source": [
    "import operator\n",
    "import codecs"
   ]
  },
  {
   "cell_type": "code",
   "execution_count": 2,
   "metadata": {
    "collapsed": false
   },
   "outputs": [],
   "source": [
    "urls_indexes = dict()\n",
    "\n",
    "with codecs.open(\"./data/urls.index\", mode=\"r\", encoding=\"utf-8\") as f_name:\n",
    "    for pair in f_name:\n",
    "        pair = pair.strip().split('\\t')\n",
    "        \n",
    "        if len(pair) < 2:\n",
    "            continue\n",
    "            \n",
    "        urls_indexes[int(pair[0])] = pair[1]\n",
    "        \n",
    "n_urls_total = len(urls_indexes)"
   ]
  },
  {
   "cell_type": "code",
   "execution_count": 3,
   "metadata": {
    "collapsed": true
   },
   "outputs": [],
   "source": [
    "urls_list = dict()\n",
    "urls_adjacency_list = dict()"
   ]
  },
  {
   "cell_type": "code",
   "execution_count": 4,
   "metadata": {
    "collapsed": false
   },
   "outputs": [],
   "source": [
    "url_proba = 1.0 / n_urls_total\n",
    "\n",
    "with codecs.open(\"./data/urls.pairs\", mode=\"r\", encoding=\"utf-8\") as f_name:\n",
    "    for pair in f_name:\n",
    "        pair = pair.strip().split('\\t')\n",
    "        \n",
    "        if len(pair) == 0:\n",
    "            continue\n",
    "            \n",
    "        pair[0] = int(pair[0])\n",
    "        pair[1] = map(int, pair[1].strip().split())\n",
    "        \n",
    "        for index in [pair[0]] + pair[1]:\n",
    "            if index not in urls_list:\n",
    "                urls_list[index] = {'p': url_proba, 'p_': 0}\n",
    "                \n",
    "        urls_adjacency_list[pair[0]] = pair[1]"
   ]
  },
  {
   "cell_type": "code",
   "execution_count": 5,
   "metadata": {
    "collapsed": true
   },
   "outputs": [],
   "source": [
    "urls_list_dangling = [url for url in urls_list.keys() if url not in urls_adjacency_list]"
   ]
  },
  {
   "cell_type": "code",
   "execution_count": 6,
   "metadata": {
    "collapsed": true
   },
   "outputs": [],
   "source": [
    "def page_rank_iter(urls_list, urls_adjacency_list, urls_list_dangling, teleport_proba=0.15):\n",
    "    global url_proba\n",
    "    \n",
    "    for node_from, node_to_list in urls_adjacency_list.iteritems():\n",
    "        proba = urls_list[node_from]['p'] / len(node_to_list)\n",
    "        for node_to in node_to_list:\n",
    "            urls_list[node_to]['p_'] += proba\n",
    "            \n",
    "    proba_left = 0.0\n",
    "    for node in urls_list_dangling:\n",
    "        proba_left += urls_list[node]['p_']\n",
    "    proba_left *= url_proba\n",
    "    \n",
    "    for i, url in urls_list.iteritems():\n",
    "        url['p'] = (1.0 - teleport_proba) * (url['p_'] + proba_left) + teleport_proba * url_proba\n",
    "        url['p_'] = 0"
   ]
  },
  {
   "cell_type": "code",
   "execution_count": 7,
   "metadata": {
    "collapsed": false
   },
   "outputs": [
    {
     "name": "stdout",
     "output_type": "stream",
     "text": [
      "iter 30 is done...\n"
     ]
    }
   ],
   "source": [
    "for i in range(30):\n",
    "    page_rank_iter(urls_list, urls_adjacency_list, urls_list_dangling)\n",
    "    print '\\riter {} is done...'.format(i+1),"
   ]
  },
  {
   "cell_type": "code",
   "execution_count": 8,
   "metadata": {
    "collapsed": false
   },
   "outputs": [],
   "source": [
    "urls_list_sorted = [(url, info['p']) for url, info in urls_list.iteritems()]\n",
    "urls_list_sorted = sorted(urls_list_sorted, key=operator.itemgetter(1), reverse=True)"
   ]
  },
  {
   "cell_type": "code",
   "execution_count": 9,
   "metadata": {
    "collapsed": false
   },
   "outputs": [
    {
     "name": "stdout",
     "output_type": "stream",
     "text": [
      "http://lenta.ru/                             \t0.00134560900611\n",
      "http://lenta.ru/rubrics/russia/              \t0.00134560900611\n",
      "http://lenta.ru/rubrics/world/               \t0.00134560900611\n",
      "http://lenta.ru/rubrics/ussr/                \t0.00134560900611\n",
      "http://lenta.ru/rubrics/economics/           \t0.00134560900611\n",
      "http://lenta.ru/rubrics/science/             \t0.00134560900611\n",
      "http://lenta.ru/rubrics/weapons/             \t0.00134560900611\n",
      "http://lenta.ru/rubrics/sport/               \t0.00134560900611\n",
      "http://lenta.ru/rubrics/culture/             \t0.00134560900611\n",
      "http://lenta.ru/rubrics/media/               \t0.00134560900611\n",
      "http://lenta.ru/rubrics/life/                \t0.00134560900611\n",
      "http://lenta.ru/rubrics/ww1/                 \t0.00134560900611\n",
      "http://lenta.ru/parts/text/                  \t0.00134560900611\n",
      "http://lenta.ru/parts/photo/                 \t0.00134560900611\n",
      "http://lenta.ru/parts/infographics/          \t0.00134560900611\n",
      "http://lenta.ru/parts/video/                 \t0.00134560900611\n",
      "http://lenta.ru/specprojects/                \t0.00134560900611\n",
      "http://lenta.ru/rss                          \t0.00134560900611\n",
      "http://lenta.ru/info/                        \t0.00134560900611\n",
      "http://lenta.ru/rubrics/forces/              \t0.00133511567966\n",
      "http://lenta.ru/rubrics/motor/               \t0.00125831755457\n",
      "http://lenta.ru/rubrics/realty/              \t0.00125831755457\n",
      "http://lenta.ru/rubrics/business/            \t0.00124806592856\n",
      "http://lenta.ru/rubrics/library/             \t0.00122184744993\n",
      "http://lenta.ru/photo/2014/12/20/newyeartoys/\t0.000706546199304\n",
      "http://lenta.ru/news/2014/11/24/arrows/      \t0.000664364070375\n",
      "http://lenta.ru/news/2014/12/04/transvesti/  \t0.000627054491215\n",
      "http://lenta.ru/photo/2015/01/05/portartur/  \t0.000576961045666\n",
      "http://lenta.ru/photo/2014/12/13/girlsonwar/ \t0.000540320703444\n",
      "http://lenta.ru/articles/2014/11/03/traub/   \t0.000533046512035\n"
     ]
    }
   ],
   "source": [
    "for index, rank in urls_list_sorted[:30]:\n",
    "    print u\"http://lenta.ru{:30}\\t{:>15}\".format(urls_indexes[index], rank)"
   ]
  },
  {
   "cell_type": "code",
   "execution_count": null,
   "metadata": {
    "collapsed": true
   },
   "outputs": [],
   "source": []
  }
 ],
 "metadata": {
  "kernelspec": {
   "display_name": "Python 2",
   "language": "python",
   "name": "python2"
  },
  "language_info": {
   "codemirror_mode": {
    "name": "ipython",
    "version": 2
   },
   "file_extension": ".py",
   "mimetype": "text/x-python",
   "name": "python",
   "nbconvert_exporter": "python",
   "pygments_lexer": "ipython2",
   "version": "2.7.12"
  }
 },
 "nbformat": 4,
 "nbformat_minor": 0
}
