{
 "cells": [
  {
   "cell_type": "code",
   "execution_count": 1,
   "metadata": {
    "collapsed": true
   },
   "outputs": [],
   "source": [
    "import numpy as np\n",
    "\n",
    "from scipy import stats"
   ]
  },
  {
   "cell_type": "code",
   "execution_count": 2,
   "metadata": {
    "collapsed": false
   },
   "outputs": [],
   "source": [
    "def read_sessions_from_file(file_name):\n",
    "    sessions = []\n",
    "    with open(file_name, 'r') as f_name:\n",
    "        for line in f_name:\n",
    "            session = map(int, line.split())\n",
    "            sessions.append(session)\n",
    "    return sessions"
   ]
  },
  {
   "cell_type": "code",
   "execution_count": 3,
   "metadata": {
    "collapsed": false
   },
   "outputs": [
    {
     "data": {
      "text/plain": [
       "(1000000, 10)"
      ]
     },
     "execution_count": 3,
     "metadata": {},
     "output_type": "execute_result"
    }
   ],
   "source": [
    "sessions_1 = np.asarray(read_sessions_from_file('c1.txt'))\n",
    "sessions_1.shape"
   ]
  },
  {
   "cell_type": "code",
   "execution_count": 4,
   "metadata": {
    "collapsed": false
   },
   "outputs": [
    {
     "data": {
      "text/plain": [
       "(1000000, 10)"
      ]
     },
     "execution_count": 4,
     "metadata": {},
     "output_type": "execute_result"
    }
   ],
   "source": [
    "sessions_2 = np.asarray(read_sessions_from_file('c2.txt'))\n",
    "sessions_2.shape"
   ]
  },
  {
   "cell_type": "code",
   "execution_count": 5,
   "metadata": {
    "collapsed": true
   },
   "outputs": [],
   "source": [
    "def ctr_metric(session):\n",
    "    session = session.sum(axis=1)\n",
    "    return float(sum(session > 0)) / len(session)"
   ]
  },
  {
   "cell_type": "code",
   "execution_count": 6,
   "metadata": {
    "collapsed": true
   },
   "outputs": [],
   "source": [
    "def click_into_first_result(session):\n",
    "    return sum(session[:,0] == 1) / float(len(session))"
   ]
  },
  {
   "cell_type": "code",
   "execution_count": 7,
   "metadata": {
    "collapsed": true
   },
   "outputs": [],
   "source": [
    "def number_of_rejects(session):\n",
    "    session = session.sum(axis=1)\n",
    "    return float(sum(session == 0)) / len(session)"
   ]
  },
  {
   "cell_type": "code",
   "execution_count": 8,
   "metadata": {
    "collapsed": false
   },
   "outputs": [],
   "source": [
    "def t_criteria(sample_1, sample_2, alpha=0.05):\n",
    "    \"\"\"\n",
    "    H0: mean_1 == mean_2\n",
    "    \"\"\"\n",
    "    \n",
    "    n_1, n_2 = float(len(sample_1)), float(len(sample_2))\n",
    "    \n",
    "    mean_1, var_1 = np.mean(sample_1), np.var(sample_1, ddof=1)\n",
    "    mean_2, var_2 = np.mean(sample_2), np.var(sample_2, ddof=1)\n",
    "        \n",
    "    var = ((n_1 - 1.0) * var_1 + (n_2 - 1.0) * var_2) / (n_1 + n_2 - 2)\n",
    "    \n",
    "    t_stat = np.sqrt(n_1 * n_2 / (n_1 + n_2)) * (mean_1 - mean_2) / np.sqrt(var)\n",
    "    t_crit = stats.t.ppf(1.0 - 0.5 * alpha, df = n_1 + n_2 - 2)\n",
    "        \n",
    "    return t_stat > t_crit"
   ]
  },
  {
   "cell_type": "code",
   "execution_count": 9,
   "metadata": {
    "collapsed": true
   },
   "outputs": [],
   "source": [
    "def sample_from(session, frac=0.1):\n",
    "    length = len(session)\n",
    "    index = np.random.choice(length, size=int(frac * length)) \n",
    "    return session[index]"
   ]
  },
  {
   "cell_type": "code",
   "execution_count": 10,
   "metadata": {
    "collapsed": true
   },
   "outputs": [],
   "source": [
    "def sample_indexes_from(session, frac=0.1):\n",
    "    length = len(session)\n",
    "    return np.random.choice(length, size=int(frac * length)) "
   ]
  },
  {
   "cell_type": "code",
   "execution_count": 11,
   "metadata": {
    "collapsed": true
   },
   "outputs": [],
   "source": [
    "def split_into_groups(sample, size=1000):\n",
    "    return [sample[b:b+size] for b in range(0, len(sample), size)]"
   ]
  },
  {
   "cell_type": "code",
   "execution_count": 12,
   "metadata": {
    "collapsed": false
   },
   "outputs": [],
   "source": [
    "def bootstrap(metric=ctr_metric, n_steps=1000):\n",
    "    print 'Bootstrap starts...'\n",
    "    \n",
    "    count = 0\n",
    "    \n",
    "    for step in range(n_steps):\n",
    "        # index = sample_indexes_from(sessions_1, frac=0.01)\n",
    "        # groups_1 = split_into_groups(sessions_1[index])\n",
    "        # groups_2 = split_into_groups(sessions_2[index])\n",
    "        \n",
    "        groups_1 = split_into_groups(sample_from(sessions_1, frac=0.01))\n",
    "        groups_2 = split_into_groups(sample_from(sessions_2, frac=0.01))\n",
    "        \n",
    "        metric_1 = map(metric, groups_1)\n",
    "        metric_2 = map(metric, groups_2)\n",
    "        \n",
    "        count += int(t_criteria(metric_1, metric_2, alpha=0.05))\n",
    "        \n",
    "        if (step + 1) % 10 == 0:\n",
    "            print '\\r{:>4} of {} iters completed...'.format(step+1, n_steps),\n",
    "    \n",
    "    print '\\nBootstrap finished!'\n",
    "    \n",
    "    return float(count) / n_steps"
   ]
  },
  {
   "cell_type": "code",
   "execution_count": 13,
   "metadata": {
    "collapsed": false
   },
   "outputs": [
    {
     "name": "stdout",
     "output_type": "stream",
     "text": [
      "Bootstrap starts...\n",
      "1000 of 1000 iters completed... \n",
      "Bootstrap finished!\n"
     ]
    },
    {
     "data": {
      "text/plain": [
       "0.987"
      ]
     },
     "execution_count": 13,
     "metadata": {},
     "output_type": "execute_result"
    }
   ],
   "source": [
    "bootstrap(ctr_metric, 1000)"
   ]
  },
  {
   "cell_type": "code",
   "execution_count": 14,
   "metadata": {
    "collapsed": false
   },
   "outputs": [
    {
     "name": "stdout",
     "output_type": "stream",
     "text": [
      "Bootstrap starts...\n",
      "1000 of 1000 iters completed... \n",
      "Bootstrap finished!\n"
     ]
    },
    {
     "data": {
      "text/plain": [
       "1.0"
      ]
     },
     "execution_count": 14,
     "metadata": {},
     "output_type": "execute_result"
    }
   ],
   "source": [
    "bootstrap(click_into_first_result, 1000)"
   ]
  },
  {
   "cell_type": "markdown",
   "metadata": {},
   "source": [
    "Среднее число кликов в 1 результат в **session_1** больше, чем в **session_2**, поэтому первая сессия лучше."
   ]
  },
  {
   "cell_type": "code",
   "execution_count": 15,
   "metadata": {
    "collapsed": false
   },
   "outputs": [
    {
     "name": "stdout",
     "output_type": "stream",
     "text": [
      "Bootstrap starts...\n",
      "1000 of 1000 iters completed... \n",
      "Bootstrap finished!\n"
     ]
    },
    {
     "data": {
      "text/plain": [
       "0.0"
      ]
     },
     "execution_count": 15,
     "metadata": {},
     "output_type": "execute_result"
    }
   ],
   "source": [
    "bootstrap(number_of_rejects, 1000)"
   ]
  },
  {
   "cell_type": "markdown",
   "metadata": {},
   "source": [
    "Среднее число отказов в **session_1** не превышает число отказов в **session_2**, поэтому первая сессия лучше."
   ]
  },
  {
   "cell_type": "code",
   "execution_count": null,
   "metadata": {
    "collapsed": true
   },
   "outputs": [],
   "source": []
  }
 ],
 "metadata": {
  "kernelspec": {
   "display_name": "Python 2",
   "language": "python",
   "name": "python2"
  },
  "language_info": {
   "codemirror_mode": {
    "name": "ipython",
    "version": 2
   },
   "file_extension": ".py",
   "mimetype": "text/x-python",
   "name": "python",
   "nbconvert_exporter": "python",
   "pygments_lexer": "ipython2",
   "version": "2.7.12"
  }
 },
 "nbformat": 4,
 "nbformat_minor": 0
}
