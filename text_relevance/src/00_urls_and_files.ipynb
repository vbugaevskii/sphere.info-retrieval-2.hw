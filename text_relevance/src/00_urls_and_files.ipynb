{
 "cells": [
  {
   "cell_type": "code",
   "execution_count": 1,
   "metadata": {
    "collapsed": true
   },
   "outputs": [],
   "source": [
    "import os\n",
    "\n",
    "from Parser import Parser, ParsedDocumentFormat"
   ]
  },
  {
   "cell_type": "code",
   "execution_count": 2,
   "metadata": {
    "collapsed": false
   },
   "outputs": [],
   "source": [
    "DATA_PATH = \"../data\"\n",
    "folders = sorted(os.listdir(DATA_PATH))"
   ]
  },
  {
   "cell_type": "code",
   "execution_count": 3,
   "metadata": {
    "collapsed": false
   },
   "outputs": [
    {
     "name": "stdout",
     "output_type": "stream",
     "text": [
      "Done!\n"
     ]
    }
   ],
   "source": [
    "docs_paths = {}\n",
    "\n",
    "for folder_i, folder_name in enumerate(folders):\n",
    "    path  = DATA_PATH + \"/\" + folder_name\n",
    "    files = os.listdir(path)\n",
    "    \n",
    "    for file_i, file_name in enumerate(files):\n",
    "        with open(path + \"/\" + file_name, \"r\") as f_name:\n",
    "            url = f_name.readline().strip()\n",
    "            docs_paths[url] = folder_name + \"/\" + file_name\n",
    "        \n",
    "        if (file_i + 1) % 10 == 0:\n",
    "            print \"\\r{} - {} of {}: {} of {} files are parsed...\".format(\n",
    "                folder_name, folder_i + 1, len(folders), file_i + 1, len(files)),\n",
    "        \n",
    "print \"\\rDone!\""
   ]
  },
  {
   "cell_type": "code",
   "execution_count": 4,
   "metadata": {
    "collapsed": false
   },
   "outputs": [],
   "source": [
    "with open(\"../urls.paths.txt\", \"w\") as f_name:\n",
    "    for pair in docs_paths.iteritems():\n",
    "        f_name.write(pair[1] + '\\t' + pair[0] + '\\n')"
   ]
  },
  {
   "cell_type": "code",
   "execution_count": 5,
   "metadata": {
    "collapsed": false
   },
   "outputs": [
    {
     "data": {
      "text/plain": [
       "27188"
      ]
     },
     "execution_count": 5,
     "metadata": {},
     "output_type": "execute_result"
    }
   ],
   "source": [
    "len(docs_paths)"
   ]
  },
  {
   "cell_type": "code",
   "execution_count": null,
   "metadata": {
    "collapsed": true
   },
   "outputs": [],
   "source": []
  }
 ],
 "metadata": {
  "kernelspec": {
   "display_name": "Python 2",
   "language": "python",
   "name": "python2"
  },
  "language_info": {
   "codemirror_mode": {
    "name": "ipython",
    "version": 2
   },
   "file_extension": ".py",
   "mimetype": "text/x-python",
   "name": "python",
   "nbconvert_exporter": "python",
   "pygments_lexer": "ipython2",
   "version": "2.7.12"
  }
 },
 "nbformat": 4,
 "nbformat_minor": 0
}
