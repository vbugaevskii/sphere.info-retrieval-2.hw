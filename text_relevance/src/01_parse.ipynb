{
 "cells": [
  {
   "cell_type": "code",
   "execution_count": 1,
   "metadata": {
    "collapsed": false
   },
   "outputs": [],
   "source": [
    "%load_ext autoreload\n",
    "%autoreload 2\n",
    "\n",
    "import os\n",
    "import codecs\n",
    "\n",
    "from Parser import Parser, ParsedDocumentFormat"
   ]
  },
  {
   "cell_type": "code",
   "execution_count": 2,
   "metadata": {
    "collapsed": true
   },
   "outputs": [],
   "source": [
    "DATA_PATH = \"../data\"\n",
    "folders = sorted(os.listdir(DATA_PATH))"
   ]
  },
  {
   "cell_type": "code",
   "execution_count": 3,
   "metadata": {
    "collapsed": false
   },
   "outputs": [
    {
     "data": {
      "text/plain": [
       "100"
      ]
     },
     "execution_count": 3,
     "metadata": {},
     "output_type": "execute_result"
    }
   ],
   "source": [
    "len(folders)"
   ]
  },
  {
   "cell_type": "code",
   "execution_count": 4,
   "metadata": {
    "collapsed": false
   },
   "outputs": [],
   "source": [
    "%%bash\n",
    "\n",
    "PATH_TO_DATA=../data2/\n",
    "\n",
    "rm -rf $PATH_TO_DATA\n",
    "mkdir $PATH_TO_DATA\n",
    "\n",
    "for i in {0..99}\n",
    "do\n",
    "   mkdir $PATH_TO_DATA$i\n",
    "done"
   ]
  },
  {
   "cell_type": "code",
   "execution_count": 5,
   "metadata": {
    "collapsed": false
   },
   "outputs": [],
   "source": [
    "urls_index = dict()\n",
    "\n",
    "with open(\"../urls.numerate.txt\", 'r') as f_urls:\n",
    "    for pair in f_urls:\n",
    "        pair = pair.strip().split()\n",
    "        if len(pair) == 2:\n",
    "            urls_index[pair[1]] = pair[0]"
   ]
  },
  {
   "cell_type": "code",
   "execution_count": 6,
   "metadata": {
    "collapsed": true
   },
   "outputs": [],
   "source": [
    "OUT_FILE_FORMAT = \"../data2/{}/{}\"\n",
    "\n",
    "n_files_processed = 0\n",
    "n_files_without_text = []"
   ]
  },
  {
   "cell_type": "code",
   "execution_count": 7,
   "metadata": {
    "collapsed": false
   },
   "outputs": [
    {
     "name": "stdout",
     "output_type": "stream",
     "text": [
      "11 - 4 of 100: 20 of 270 files are parsed..."
     ]
    },
    {
     "name": "stderr",
     "output_type": "stream",
     "text": [
      "/home/vladimir/anaconda2/lib/python2.7/site-packages/bs4/builder/_htmlparser.py:167: RuntimeWarning: Python's built-in HTMLParser cannot parse the given document. This is not a bug in Beautiful Soup. The best solution is to install an external parser (lxml or html5lib), and use Beautiful Soup with that parser. See http://www.crummy.com/software/BeautifulSoup/bs4/doc/#installing-a-parser for help.\n",
      "  \"Python's built-in HTMLParser cannot parse the given document. This is not a bug in Beautiful Soup. The best solution is to install an external parser (lxml or html5lib), and use Beautiful Soup with that parser. See http://www.crummy.com/software/BeautifulSoup/bs4/doc/#installing-a-parser for help.\"))\n"
     ]
    },
    {
     "name": "stdout",
     "output_type": "stream",
     "text": [
      "Done!\n"
     ]
    }
   ],
   "source": [
    "for folder_i, folder_name in enumerate(folders):\n",
    "#     if folder_i + 1 < 50:\n",
    "#         continue\n",
    "    \n",
    "    path  = DATA_PATH + \"/\" + folder_name\n",
    "    files = os.listdir(path)\n",
    "    \n",
    "    for file_i, file_name in enumerate(files):\n",
    "        doc_parsed = Parser.parse(path + \"/\" + file_name)\n",
    "        if doc_parsed is None or doc_parsed[\"url\"] not in urls_index:\n",
    "            continue\n",
    "            \n",
    "        doc_parsed[\"index\"] = urls_index[doc_parsed[\"url\"]]\n",
    "        doc_parsed[\"source\"] = file_name\n",
    "        \n",
    "        path_out = OUT_FILE_FORMAT.format(folder_name, doc_parsed[\"index\"])\n",
    "        ParsedDocumentFormat.dump(doc_parsed, path_out)\n",
    "        \n",
    "        n_files_processed += 1\n",
    "        \n",
    "        if len(doc_parsed[\"text\"]) <= 2:\n",
    "            n_files_without_text.append(path + \"/\" + file_name)\n",
    "        \n",
    "        if (file_i + 1) % 10 == 0:\n",
    "            print \"\\r{} - {} of {}: {} of {} files are parsed...\".format(\n",
    "                folder_name, folder_i + 1, len(folders), file_i + 1, len(files)),\n",
    "        \n",
    "print \"\\rDone!\""
   ]
  },
  {
   "cell_type": "code",
   "execution_count": 8,
   "metadata": {
    "collapsed": false
   },
   "outputs": [
    {
     "data": {
      "text/plain": [
       "26801"
      ]
     },
     "execution_count": 8,
     "metadata": {},
     "output_type": "execute_result"
    }
   ],
   "source": [
    "n_files_processed"
   ]
  },
  {
   "cell_type": "code",
   "execution_count": 9,
   "metadata": {
    "collapsed": false
   },
   "outputs": [
    {
     "data": {
      "text/plain": [
       "64"
      ]
     },
     "execution_count": 9,
     "metadata": {},
     "output_type": "execute_result"
    }
   ],
   "source": [
    "len(n_files_without_text)"
   ]
  },
  {
   "cell_type": "code",
   "execution_count": null,
   "metadata": {
    "collapsed": true
   },
   "outputs": [],
   "source": []
  }
 ],
 "metadata": {
  "kernelspec": {
   "display_name": "Python 2",
   "language": "python",
   "name": "python2"
  },
  "language_info": {
   "codemirror_mode": {
    "name": "ipython",
    "version": 2
   },
   "file_extension": ".py",
   "mimetype": "text/x-python",
   "name": "python",
   "nbconvert_exporter": "python",
   "pygments_lexer": "ipython2",
   "version": "2.7.12"
  }
 },
 "nbformat": 4,
 "nbformat_minor": 0
}
